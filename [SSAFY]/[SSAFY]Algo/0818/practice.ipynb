{
 "cells": [
  {
   "cell_type": "code",
   "execution_count": 1,
   "metadata": {},
   "outputs": [
    {
     "name": "stdout",
     "output_type": "stream",
     "text": [
      "0 4 1 \n",
      "4 1 3 \n",
      "1 3 1 \n"
     ]
    }
   ],
   "source": [
    "arr = [0, 4, 1, 3, 1]\n",
    "N = len(arr) # 5\n",
    "M = 3        # 구간 길이\n",
    "# 모든 구간의 시작 위치를 생각해보자.\n",
    "# 0 -> N - M\n",
    "for s in range(0, N-M + 1):\n",
    "    # for i in range(시작, 시작 + M):\n",
    "    for i in range(s, s + M):\n",
    "        print(arr[i], end=' ')\n",
    "    print()"
   ]
  },
  {
   "cell_type": "code",
   "execution_count": 9,
   "metadata": {},
   "outputs": [
    {
     "name": "stdout",
     "output_type": "stream",
     "text": [
      "3 4 4 4 4 4 4\n",
      "3 4 4 4 4 4 4\n",
      "3 4 4 4 4 4 4\n",
      "3 4 4 4 4 4 4\n",
      "3 4 4 4 4 4 4\n",
      "3 4 4 4 4 4 4\n",
      "2 4 4 4 4 4 4\n"
     ]
    }
   ],
   "source": [
    "dr = [-1, 0, 1, 0]\n",
    "dc = [0, 1, 0, -1]\n",
    "\n",
    "N = 7\n",
    "arr = [[0] * N for _ in range(N)]\n",
    "\n",
    "# 모든 위치에서\n",
    "for r in range(N):\n",
    "    for c in range(N):\n",
    "        # 기준점 (r, c)의 상우하좌\n",
    "        for i in range(4):\n",
    "            nr = r + dr[i]\n",
    "            nc = c + dc[i]\n",
    "            # 경계체크하기\n",
    "            if 0 <= nr < N and 0 <= nc < N:\n",
    "                arr[r][c] = i + 1\n",
    "            # if nr < 0 or nr >= N or nc < 0 or nc >= N:\n",
    "            #     continue\n",
    "            #--------------------------\n",
    "            # (nr, nc)에서 계산 작업 수행\n",
    "for row in arr :\n",
    "    print(*row)"
   ]
  },
  {
   "cell_type": "code",
   "execution_count": 15,
   "metadata": {},
   "outputs": [
    {
     "name": "stdout",
     "output_type": "stream",
     "text": [
      "0 64 4 11 2 10\n",
      "[10, 25, 64, 22, 11]\n",
      "1 25 4 11 4 11\n",
      "[10, 11, 64, 22, 25]\n",
      "2 64 4 25 3 22\n",
      "[10, 11, 22, 64, 25]\n"
     ]
    }
   ],
   "source": [
    "arr = [64, 25, 10, 22, 11]\n",
    "N = len(arr)\n",
    "\n",
    "\n",
    "for i in range(3):\n",
    "    # i: 범위 시작, 최소값의 저장 위치\n",
    "    idx = i\n",
    "    for j in range(i+1, N):\n",
    "        if arr[idx] > arr[j]:\n",
    "            idx = j\n",
    "    print(i, arr[i], j, arr[j], idx, arr[idx])\n",
    "    arr[i], arr[idx] = arr[idx], arr[i]\n",
    "    print(arr)\n"
   ]
  },
  {
   "cell_type": "code",
   "execution_count": 18,
   "metadata": {},
   "outputs": [
    {
     "name": "stdout",
     "output_type": "stream",
     "text": [
      "CATTCCCTGCGCCGC\n",
      "CATTCCCTGCGCCGC\n"
     ]
    }
   ],
   "source": [
    "# 염기서열 (ACTG 네개의 물질)\n",
    "p = \"CATTCCCTGCGCCGC\"                                                                       # pattern\n",
    "t = \"ATTTGTGCATGTTTGAGCTCATTCCCTGCGCCGCTTTACGTACGAGAAACTGAACGTACCTACGACATTCCCTGCGCCGCCACCCGCTTTTTGAA\"      # text\n",
    "\n",
    "n, m = len(t), len(p)\n",
    "\n",
    "\n",
    "i = 0\n",
    "while i < n:\n",
    "    for j in range(m):\n",
    "        if p[j] != t[i + j]:\n",
    "            break\n",
    "    else:\n",
    "        print(t[i:i + m])\n",
    "        i = i + m - 1\n",
    "    i += 1"
   ]
  },
  {
   "cell_type": "code",
   "execution_count": 19,
   "metadata": {},
   "outputs": [
    {
     "name": "stdout",
     "output_type": "stream",
     "text": [
      "- + + + +\n",
      "+ - - - -\n",
      "+ - - - -\n",
      "+ - - - -\n",
      "+ - - - -\n",
      "---------------\n",
      "- - + + +\n",
      "+ + - - -\n",
      "+ + - - -\n",
      "+ + - - -\n",
      "+ + - - -\n",
      "---------------\n",
      "- - - + +\n",
      "+ + + - -\n",
      "+ + + - -\n",
      "+ + + - -\n",
      "+ + + - -\n",
      "---------------\n",
      "- - - - +\n",
      "+ + + + -\n",
      "+ + + + -\n",
      "+ + + + -\n",
      "+ + + + -\n",
      "---------------\n",
      "- + + + +\n",
      "- + + + +\n",
      "+ - - - -\n",
      "+ - - - -\n",
      "+ - - - -\n",
      "---------------\n",
      "- - + + +\n",
      "- - + + +\n",
      "+ + - - -\n",
      "+ + - - -\n",
      "+ + - - -\n",
      "---------------\n",
      "- - - + +\n",
      "- - - + +\n",
      "+ + + - -\n",
      "+ + + - -\n",
      "+ + + - -\n",
      "---------------\n",
      "- - - - +\n",
      "- - - - +\n",
      "+ + + + -\n",
      "+ + + + -\n",
      "+ + + + -\n",
      "---------------\n",
      "- + + + +\n",
      "- + + + +\n",
      "- + + + +\n",
      "+ - - - -\n",
      "+ - - - -\n",
      "---------------\n",
      "- - + + +\n",
      "- - + + +\n",
      "- - + + +\n",
      "+ + - - -\n",
      "+ + - - -\n",
      "---------------\n",
      "- - - + +\n",
      "- - - + +\n",
      "- - - + +\n",
      "+ + + - -\n",
      "+ + + - -\n",
      "---------------\n",
      "- - - - +\n",
      "- - - - +\n",
      "- - - - +\n",
      "+ + + + -\n",
      "+ + + + -\n",
      "---------------\n",
      "- + + + +\n",
      "- + + + +\n",
      "- + + + +\n",
      "- + + + +\n",
      "+ - - - -\n",
      "---------------\n",
      "- - + + +\n",
      "- - + + +\n",
      "- - + + +\n",
      "- - + + +\n",
      "+ + - - -\n",
      "---------------\n",
      "- - - + +\n",
      "- - - + +\n",
      "- - - + +\n",
      "- - - + +\n",
      "+ + + - -\n",
      "---------------\n",
      "- - - - +\n",
      "- - - - +\n",
      "- - - - +\n",
      "- - - - +\n",
      "+ + + + -\n",
      "---------------\n"
     ]
    }
   ],
   "source": [
    "# 2차 배열 4분할\n",
    "N = 5\n",
    "arr = [[0] * N for _ in range(N)]\n",
    "def print_arr():\n",
    "    for line in arr:\n",
    "        print(*line)\n",
    "    print('---------------')\n",
    "\n",
    "def clear_arr():\n",
    "    arr = [[0] * N for _ in range(N)]\n",
    "\n",
    "def set_area(sr, sc, er, ec, val):\n",
    "    for r in range(sr, er):\n",
    "        for c in range(sc, ec):\n",
    "            arr[r][c] = val\n",
    "\n",
    "for i in range(1, N):\n",
    "    for j in range(1, N):\n",
    "        # 1. 좌상단:(0, 0) -> 우하단:(i-1, j-1)\n",
    "        # r -> range(0, i), c -> range(0, j)\n",
    "        set_area(0, 0, i, j, '-')\n",
    "        # 2. (0, j) -> (i-1, N-1)\n",
    "        set_area(0, j, i, N, '+')\n",
    "        # 3. (i, 0) -> (N-1, j-1)\n",
    "        set_area(i, 0, N, j, '+')\n",
    "        # 4. (i, j) -> (N-1, N-1)\n",
    "        set_area(i, j, N, N, '-')\n",
    "\n",
    "        print_arr()\n",
    "        clear_arr()\n"
   ]
  },
  {
   "cell_type": "code",
   "execution_count": null,
   "metadata": {},
   "outputs": [],
   "source": []
  }
 ],
 "metadata": {
  "kernelspec": {
   "display_name": "base",
   "language": "python",
   "name": "python3"
  },
  "language_info": {
   "codemirror_mode": {
    "name": "ipython",
    "version": 3
   },
   "file_extension": ".py",
   "mimetype": "text/x-python",
   "name": "python",
   "nbconvert_exporter": "python",
   "pygments_lexer": "ipython3",
   "version": "3.11.5"
  }
 },
 "nbformat": 4,
 "nbformat_minor": 2
}
