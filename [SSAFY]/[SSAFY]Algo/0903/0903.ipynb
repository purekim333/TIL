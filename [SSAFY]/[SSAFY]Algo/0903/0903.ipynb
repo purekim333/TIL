{
 "cells": [
  {
   "cell_type": "code",
   "execution_count": 2,
   "metadata": {},
   "outputs": [
    {
     "name": "stdout",
     "output_type": "stream",
     "text": [
      "{}\n",
      "{A }\n",
      "{B }\n",
      "{A B }\n",
      "{C }\n",
      "{A C }\n",
      "{B C }\n",
      "{A B C }\n"
     ]
    }
   ],
   "source": [
    "arr = ['A' ,'B', 'C']\n",
    "\n",
    "n = len(arr)\n",
    "\n",
    "def get_sub(tar):\n",
    "\t\tfor i in range(n) :\n",
    "\t\t\t\tif tar & 0x1 :\n",
    "\t\t\t\t\t\tprint(arr[i], end = ' ')\n",
    "\t\t\t\ttar >>= 1\n",
    "\t\t\t\t\n",
    "for tar in range(0, 1 << n) :\n",
    "\t\tprint('{', end = '')\n",
    "\t\tget_sub(tar)\n",
    "\t\tprint('}')"
   ]
  },
  {
   "cell_type": "code",
   "execution_count": 8,
   "metadata": {},
   "outputs": [
    {
     "name": "stdout",
     "output_type": "stream",
     "text": [
      "26\n"
     ]
    }
   ],
   "source": [
    "arr = ['A' ,'B', 'C', 'D', 'E']\n",
    "n = len(arr)\n",
    "\n",
    "def get_sub(tar):\n",
    "    cnt = 0\n",
    "    for i in range(n) :\n",
    "        if tar & 0x1 :\n",
    "            cnt += 1\n",
    "        tar >>= 1\n",
    "    return cnt\n",
    "\t\t\t\t\n",
    "result = 0\n",
    "for tar in range(0, 1 << n) :\n",
    "    if get_sub(tar) >= 2 :\n",
    "        result += 1\n",
    "print(result)"
   ]
  },
  {
   "cell_type": "code",
   "execution_count": null,
   "metadata": {},
   "outputs": [],
   "source": []
  }
 ],
 "metadata": {
  "kernelspec": {
   "display_name": "Python 3",
   "language": "python",
   "name": "python3"
  },
  "language_info": {
   "codemirror_mode": {
    "name": "ipython",
    "version": 3
   },
   "file_extension": ".py",
   "mimetype": "text/x-python",
   "name": "python",
   "nbconvert_exporter": "python",
   "pygments_lexer": "ipython3",
   "version": "3.9.13"
  }
 },
 "nbformat": 4,
 "nbformat_minor": 2
}
