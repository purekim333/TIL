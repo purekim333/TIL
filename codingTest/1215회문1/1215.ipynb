{
 "cells": [
  {
   "cell_type": "code",
   "execution_count": 1,
   "metadata": {},
   "outputs": [],
   "source": [
    "N = 8\n",
    "arr = 'ACAACABC'\n",
    "M = 4"
   ]
  },
  {
   "cell_type": "code",
   "execution_count": 3,
   "metadata": {},
   "outputs": [
    {
     "name": "stdout",
     "output_type": "stream",
     "text": [
      "회문이 아닙니다.\n"
     ]
    }
   ],
   "source": [
    "s = 2\n",
    "e = s + M - 1 # 끝 구간\n",
    "\n",
    "for i in range(M//2) :\n",
    "    if arr[s + i] != arr[e -i] :\n",
    "        print('회문이 아닙니다.')\n",
    "        break\n",
    "\n",
    "else :\n",
    "    print('회문입니다.') #s = 1"
   ]
  },
  {
   "cell_type": "code",
   "execution_count": 7,
   "metadata": {},
   "outputs": [
    {
     "name": "stdout",
     "output_type": "stream",
     "text": [
      "0 번 s 회문이 아님\n",
      "1 번 s 회문입니다.\n",
      "2 번 s 회문이 아님\n",
      "3 번 s 회문이 아님\n",
      "4 번 s 회문이 아님\n"
     ]
    }
   ],
   "source": [
    "import sys; sys.stdin = open('input.txt')\n",
    "N = 8\n",
    "M = int(input())\n",
    "\n",
    "arr = [list(input()) for _ in range(8)]\n",
    "for s in range(0, N-M +1 ):\n",
    "    e = s + M - 1\n",
    "    for i in range(M//2) :\n",
    "        if arr[s + i] != arr[e - i] :\n",
    "            print(s,'번 s 회문이 아님')\n",
    "            break\n",
    "    else :\n",
    "        print(s, '번 s 회문입니다.')"
   ]
  },
  {
   "cell_type": "code",
   "execution_count": null,
   "metadata": {},
   "outputs": [],
   "source": [
    "for tc in range(1, 11):\n",
    "    N = 8\n",
    "    M = int(input())\n",
    "    arr = [input() for _ in range(N)]\n",
    " \n",
    "    cnt = 0\n",
    "    # 모든 행에 대해\n",
    "    for row in range(N):\n",
    "        # arr[row] 행에 대해서 처리\n",
    "        for s in range(0, N-M + 1):\n",
    "            e = s + M - 1\n",
    "            for i in range(M//2):\n",
    "                # arr[s + i] <-> arr[e - i]\n",
    "                if arr[row][s + i] != arr[row][e - i]:\n",
    "                    break\n",
    "            else:\n",
    "                cnt += 1\n",
    " \n",
    "    # 모든 열에 대해\n",
    " \n",
    "    for col in range(N):\n",
    "        # arr[][col] 열에 대해서 처리\n",
    "        for s in range(0, N-M + 1):\n",
    "            e = s + M - 1\n",
    "            for i in range(M//2):\n",
    "                # arr[s + i] <-> arr[e - i]\n",
    "                if arr[s + i][col] != arr[e - i][col]:\n",
    "                    break\n",
    "            else:\n",
    "                cnt += 1\n",
    "    print(f'#{tc} {cnt}')"
   ]
  },
  {
   "cell_type": "code",
   "execution_count": null,
   "metadata": {},
   "outputs": [],
   "source": [
    "def find_palindrome(arr, N, M) :\n",
    "    cnt = 0\n",
    "\n",
    "\n",
    "    for tc in range(1, 11):\n",
    "        N = 8\n",
    "        M = int(input())\n",
    "        arr = [input() for _ in range(N)]\n",
    "    \n",
    "        cnt = 0\n",
    "        # 모든 행에 대해\n",
    "        for row in range(N):\n",
    "            # arr[row] 행에 대해서 처리\n",
    "            for s in range(0, N-M + 1):\n",
    "                e = s + M - 1\n",
    "                for i in range(M//2):\n",
    "                    # arr[s + i] <-> arr[e - i]\n",
    "                    if arr[row][s + i] != arr[row][e - i]:\n",
    "                        break\n",
    "                else:\n",
    "                    cnt += 1\n",
    "    \n",
    "        # 모든 열에 대해\n",
    "\n",
    "        #  for i in range(M//2) :\n",
    "        #      if t[r+i][c] != t[M-1-r-i][c] :\n",
    "        #          found_v = False\n",
    "        #          break\n",
    "    \n",
    "        for col in range(N):\n",
    "            # arr[][col] 열에 대해서 처리\n",
    "            for s in range(0, N-M + 1):\n",
    "                e = s + M - 1\n",
    "                for i in range(M//2):\n",
    "                    # arr[s + i] <-> arr[e - i]\n",
    "                    if arr[s + i][col] != arr[e - i][col]:\n",
    "                        break\n",
    "                else:\n",
    "                    ret = ''\n",
    "                    cnt += 1\n",
    "                    for i in range(s, e+1) :\n",
    "                        ret += arr[i][col]\n",
    "                    return ret\n",
    "\n"
   ]
  },
  {
   "cell_type": "code",
   "execution_count": null,
   "metadata": {},
   "outputs": [],
   "source": []
  },
  {
   "cell_type": "code",
   "execution_count": null,
   "metadata": {},
   "outputs": [],
   "source": []
  },
  {
   "cell_type": "code",
   "execution_count": null,
   "metadata": {},
   "outputs": [],
   "source": []
  },
  {
   "cell_type": "code",
   "execution_count": null,
   "metadata": {},
   "outputs": [],
   "source": []
  },
  {
   "cell_type": "code",
   "execution_count": null,
   "metadata": {},
   "outputs": [],
   "source": []
  }
 ],
 "metadata": {
  "kernelspec": {
   "display_name": "Python 3",
   "language": "python",
   "name": "python3"
  },
  "language_info": {
   "codemirror_mode": {
    "name": "ipython",
    "version": 3
   },
   "file_extension": ".py",
   "mimetype": "text/x-python",
   "name": "python",
   "nbconvert_exporter": "python",
   "pygments_lexer": "ipython3",
   "version": "3.9.13"
  }
 },
 "nbformat": 4,
 "nbformat_minor": 2
}
